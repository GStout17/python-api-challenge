{
 "cells": [
  {
   "cell_type": "markdown",
   "metadata": {},
   "source": [
    "# VacationPy"
   ]
  },
  {
   "cell_type": "code",
   "execution_count": 8,
   "metadata": {},
   "outputs": [],
   "source": [
    "# Dependencies and Setup\n",
    "import matplotlib.pyplot as plt\n",
    "import pandas as pd\n",
    "import numpy as np\n",
    "import requests\n",
    "import gmaps\n",
    "import os\n",
    "\n",
    "# Import API key\n",
    "from api_keys_2 import g_key\n"
   ]
  },
  {
   "cell_type": "markdown",
   "metadata": {},
   "source": [
    "### Store Part I results into DataFrame\n",
    "\n",
    "- Load the csv exported in Part I to a DataFrame"
   ]
  },
  {
   "cell_type": "code",
   "execution_count": 9,
   "metadata": {},
   "outputs": [
    {
     "data": {
      "text/html": [
       "<div>\n",
       "<style scoped>\n",
       "    .dataframe tbody tr th:only-of-type {\n",
       "        vertical-align: middle;\n",
       "    }\n",
       "\n",
       "    .dataframe tbody tr th {\n",
       "        vertical-align: top;\n",
       "    }\n",
       "\n",
       "    .dataframe thead th {\n",
       "        text-align: right;\n",
       "    }\n",
       "</style>\n",
       "<table border=\"1\" class=\"dataframe\">\n",
       "  <thead>\n",
       "    <tr style=\"text-align: right;\">\n",
       "      <th></th>\n",
       "      <th>Unnamed: 0</th>\n",
       "      <th>Country</th>\n",
       "      <th>City</th>\n",
       "      <th>Latitude</th>\n",
       "      <th>Longitude</th>\n",
       "      <th>Max Temp</th>\n",
       "      <th>Humidity</th>\n",
       "      <th>Cloudiness</th>\n",
       "      <th>Wind Speed</th>\n",
       "      <th>Date</th>\n",
       "    </tr>\n",
       "  </thead>\n",
       "  <tbody>\n",
       "    <tr>\n",
       "      <th>0</th>\n",
       "      <td>0</td>\n",
       "      <td>GL</td>\n",
       "      <td>Sisimiut</td>\n",
       "      <td>66.9395</td>\n",
       "      <td>-53.6735</td>\n",
       "      <td>31.71</td>\n",
       "      <td>92</td>\n",
       "      <td>96</td>\n",
       "      <td>2.26</td>\n",
       "      <td>1601424000</td>\n",
       "    </tr>\n",
       "    <tr>\n",
       "      <th>1</th>\n",
       "      <td>1</td>\n",
       "      <td>AU</td>\n",
       "      <td>Hobart</td>\n",
       "      <td>-42.8794</td>\n",
       "      <td>147.3294</td>\n",
       "      <td>59.31</td>\n",
       "      <td>63</td>\n",
       "      <td>95</td>\n",
       "      <td>9.33</td>\n",
       "      <td>1601424000</td>\n",
       "    </tr>\n",
       "    <tr>\n",
       "      <th>2</th>\n",
       "      <td>2</td>\n",
       "      <td>NZ</td>\n",
       "      <td>Bluff</td>\n",
       "      <td>-46.6000</td>\n",
       "      <td>168.3333</td>\n",
       "      <td>45.32</td>\n",
       "      <td>90</td>\n",
       "      <td>98</td>\n",
       "      <td>17.47</td>\n",
       "      <td>1601424000</td>\n",
       "    </tr>\n",
       "    <tr>\n",
       "      <th>3</th>\n",
       "      <td>3</td>\n",
       "      <td>AR</td>\n",
       "      <td>Mar del Plata</td>\n",
       "      <td>-38.0023</td>\n",
       "      <td>-57.5575</td>\n",
       "      <td>64.51</td>\n",
       "      <td>58</td>\n",
       "      <td>24</td>\n",
       "      <td>13.96</td>\n",
       "      <td>1601424000</td>\n",
       "    </tr>\n",
       "    <tr>\n",
       "      <th>4</th>\n",
       "      <td>4</td>\n",
       "      <td>ZA</td>\n",
       "      <td>East London</td>\n",
       "      <td>-33.0153</td>\n",
       "      <td>27.9116</td>\n",
       "      <td>59.56</td>\n",
       "      <td>66</td>\n",
       "      <td>96</td>\n",
       "      <td>0.09</td>\n",
       "      <td>1601424000</td>\n",
       "    </tr>\n",
       "  </tbody>\n",
       "</table>\n",
       "</div>"
      ],
      "text/plain": [
       "   Unnamed: 0 Country           City  Latitude  Longitude  Max Temp  Humidity  \\\n",
       "0           0      GL       Sisimiut   66.9395   -53.6735     31.71        92   \n",
       "1           1      AU         Hobart  -42.8794   147.3294     59.31        63   \n",
       "2           2      NZ          Bluff  -46.6000   168.3333     45.32        90   \n",
       "3           3      AR  Mar del Plata  -38.0023   -57.5575     64.51        58   \n",
       "4           4      ZA    East London  -33.0153    27.9116     59.56        66   \n",
       "\n",
       "   Cloudiness  Wind Speed        Date  \n",
       "0          96        2.26  1601424000  \n",
       "1          95        9.33  1601424000  \n",
       "2          98       17.47  1601424000  \n",
       "3          24       13.96  1601424000  \n",
       "4          96        0.09  1601424000  "
      ]
     },
     "execution_count": 9,
     "metadata": {},
     "output_type": "execute_result"
    }
   ],
   "source": [
    "# Study data files\n",
    "weather_metadata = \"output_data/my_weather_data.csv\"\n",
    "\n",
    "# Read the weather data and the study results\n",
    "weather_data = pd.read_csv(weather_metadata)\n",
    "\n",
    "# Combine the data into a single dataset\n",
    "weatherdf = pd.DataFrame(weather_data)\n",
    "weatherdf.head()"
   ]
  },
  {
   "cell_type": "markdown",
   "metadata": {},
   "source": [
    "### Humidity Heatmap\n",
    "\n",
    "- Configure gmaps.\n",
    "- Use the Lat and Lng as locations and Humidity as the weight.\n",
    "- Add Heatmap layer to map."
   ]
  },
  {
   "cell_type": "markdown",
   "metadata": {},
   "source": [
    "### Create new DataFrame fitting weather criteria\n",
    "\n",
    "- Narrow down the cities to fit weather conditions.\n",
    "- Drop any rows will null values."
   ]
  },
  {
   "cell_type": "markdown",
   "metadata": {},
   "source": [
    "### Hotel Map\n",
    "\n",
    "- Store into variable named hotel_df.\n",
    "- Add a \"Hotel Name\" column to the DataFrame.\n",
    "- Set parameters to search for hotels with 5000 meters.\n",
    "- Hit the Google Places API for each city's coordinates.\n",
    "- Store the first Hotel result into the DataFrame.\n",
    "- Plot markers on top of the heatmap."
   ]
  },
  {
   "cell_type": "code",
   "execution_count": null,
   "metadata": {},
   "outputs": [],
   "source": [
    "# NOTE: Do not change any of the code in this cell\n",
    "\n",
    "# Using the template add the hotel marks to the heatmap\n",
    "info_box_template = \"\"\"\n",
    "<dl>\n",
    "<dt>Name</dt><dd>{Hotel Name}</dd>\n",
    "<dt>City</dt><dd>{City}</dd>\n",
    "<dt>Country</dt><dd>{Country}</dd>\n",
    "</dl>\n",
    "\"\"\"\n",
    "# Store the DataFrame Row\n",
    "# NOTE: be sure to update with your DataFrame name\n",
    "hotel_info = [info_box_template.format(**row) for index, row in hotel_df.iterrows()]\n",
    "locations = hotel_df[[\"Lat\", \"Lng\"]]"
   ]
  },
  {
   "cell_type": "code",
   "execution_count": null,
   "metadata": {},
   "outputs": [],
   "source": [
    "# Add marker layer ontop of heat map\n",
    "\n",
    "\n",
    "# Display figure"
   ]
  }
 ],
 "metadata": {
  "kernelspec": {
   "display_name": "Python 3",
   "language": "python",
   "name": "python3"
  },
  "language_info": {
   "codemirror_mode": {
    "name": "ipython",
    "version": 3
   },
   "file_extension": ".py",
   "mimetype": "text/x-python",
   "name": "python",
   "nbconvert_exporter": "python",
   "pygments_lexer": "ipython3",
   "version": "3.6.10"
  }
 },
 "nbformat": 4,
 "nbformat_minor": 4
}
